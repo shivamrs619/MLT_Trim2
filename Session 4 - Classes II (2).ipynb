{
 "cells": [
  {
   "cell_type": "markdown",
   "id": "d48e1341",
   "metadata": {},
   "source": [
    "# Features of OOP"
   ]
  },
  {
   "cell_type": "code",
   "execution_count": 1,
   "id": "9c56754c",
   "metadata": {},
   "outputs": [],
   "source": [
    "class Person:\n",
    "    def __init__(self, name, place):\n",
    "        self.name=name\n",
    "        self.place=place\n",
    "    def display_name(self):\n",
    "        print('The name is:', self.name)\n",
    "    def display_place(self):\n",
    "        print('The name is:', self.place)\n",
    "    "
   ]
  },
  {
   "cell_type": "code",
   "execution_count": 2,
   "id": "0ada4fc5",
   "metadata": {},
   "outputs": [],
   "source": [
    "# Creating an object of the clas\n",
    "\n",
    "p1=Person('Ruchi', 'Orission')"
   ]
  },
  {
   "cell_type": "code",
   "execution_count": 3,
   "id": "2fdcb226",
   "metadata": {},
   "outputs": [
    {
     "data": {
      "text/plain": [
       "<__main__.Person at 0x10a132d90>"
      ]
     },
     "execution_count": 3,
     "metadata": {},
     "output_type": "execute_result"
    }
   ],
   "source": [
    "p1"
   ]
  },
  {
   "cell_type": "code",
   "execution_count": 4,
   "id": "42462336",
   "metadata": {},
   "outputs": [
    {
     "name": "stdout",
     "output_type": "stream",
     "text": [
      "The name is: Ruchi\n"
     ]
    }
   ],
   "source": [
    "p1.display_name()"
   ]
  },
  {
   "cell_type": "code",
   "execution_count": 5,
   "id": "835ba871",
   "metadata": {},
   "outputs": [
    {
     "name": "stdout",
     "output_type": "stream",
     "text": [
      "The name is: Orission\n"
     ]
    }
   ],
   "source": [
    "p1.display_place()"
   ]
  },
  {
   "cell_type": "markdown",
   "id": "5ccc3dea",
   "metadata": {},
   "source": [
    "## Inheritance"
   ]
  },
  {
   "cell_type": "code",
   "execution_count": 6,
   "id": "19500790",
   "metadata": {},
   "outputs": [],
   "source": [
    "class Student (Person):\n",
    "    pass"
   ]
  },
  {
   "cell_type": "code",
   "execution_count": 7,
   "id": "8b34a1de",
   "metadata": {},
   "outputs": [],
   "source": [
    "s1=Student('Richa', 'Orissa')"
   ]
  },
  {
   "cell_type": "code",
   "execution_count": 8,
   "id": "fd2fd70d",
   "metadata": {},
   "outputs": [
    {
     "name": "stdout",
     "output_type": "stream",
     "text": [
      "The name is: Richa\n"
     ]
    }
   ],
   "source": [
    "s1.display_name()"
   ]
  },
  {
   "cell_type": "code",
   "execution_count": 9,
   "id": "687de285",
   "metadata": {},
   "outputs": [
    {
     "name": "stdout",
     "output_type": "stream",
     "text": [
      "The name is: Orissa\n"
     ]
    }
   ],
   "source": [
    "s1.display_place()"
   ]
  },
  {
   "cell_type": "code",
   "execution_count": 10,
   "id": "3ee8e8e6",
   "metadata": {},
   "outputs": [],
   "source": [
    "class Student (Person):\n",
    "    def __init__(self,salary):\n",
    "        self.salary=salary\n",
    "    def display_salary(self):\n",
    "        print('The Salary:', self.salary)"
   ]
  },
  {
   "cell_type": "code",
   "execution_count": 11,
   "id": "29c9963c",
   "metadata": {},
   "outputs": [
    {
     "ename": "TypeError",
     "evalue": "__init__() takes 2 positional arguments but 4 were given",
     "output_type": "error",
     "traceback": [
      "\u001b[0;31m---------------------------------------------------------------------------\u001b[0m",
      "\u001b[0;31mTypeError\u001b[0m                                 Traceback (most recent call last)",
      "Input \u001b[0;32mIn [11]\u001b[0m, in \u001b[0;36m<cell line: 1>\u001b[0;34m()\u001b[0m\n\u001b[0;32m----> 1\u001b[0m s2\u001b[38;5;241m=\u001b[39m\u001b[43mStudent\u001b[49m\u001b[43m(\u001b[49m\u001b[38;5;124;43m'\u001b[39;49m\u001b[38;5;124;43mArshdeep\u001b[39;49m\u001b[38;5;124;43m'\u001b[39;49m\u001b[43m,\u001b[49m\u001b[43m \u001b[49m\u001b[38;5;124;43m'\u001b[39;49m\u001b[38;5;124;43mPunjab\u001b[39;49m\u001b[38;5;124;43m'\u001b[39;49m\u001b[43m,\u001b[49m\u001b[43m \u001b[49m\u001b[38;5;241;43m900000\u001b[39;49m\u001b[43m)\u001b[49m\n",
      "\u001b[0;31mTypeError\u001b[0m: __init__() takes 2 positional arguments but 4 were given"
     ]
    }
   ],
   "source": [
    "s2=Student('Arshdeep', 'Punjab', 900000)"
   ]
  },
  {
   "cell_type": "code",
   "execution_count": 12,
   "id": "119e0afe",
   "metadata": {},
   "outputs": [],
   "source": [
    "s2=Student(900000)"
   ]
  },
  {
   "cell_type": "code",
   "execution_count": 13,
   "id": "2d31d629",
   "metadata": {},
   "outputs": [
    {
     "name": "stdout",
     "output_type": "stream",
     "text": [
      "The Salary: 900000\n"
     ]
    }
   ],
   "source": [
    "s2.display_salary()"
   ]
  },
  {
   "cell_type": "code",
   "execution_count": 14,
   "id": "a57dd31c",
   "metadata": {},
   "outputs": [
    {
     "ename": "AttributeError",
     "evalue": "'Student' object has no attribute 'name'",
     "output_type": "error",
     "traceback": [
      "\u001b[0;31m---------------------------------------------------------------------------\u001b[0m",
      "\u001b[0;31mAttributeError\u001b[0m                            Traceback (most recent call last)",
      "Input \u001b[0;32mIn [14]\u001b[0m, in \u001b[0;36m<cell line: 1>\u001b[0;34m()\u001b[0m\n\u001b[0;32m----> 1\u001b[0m \u001b[43ms2\u001b[49m\u001b[38;5;241;43m.\u001b[39;49m\u001b[43mdisplay_name\u001b[49m\u001b[43m(\u001b[49m\u001b[43m)\u001b[49m\n",
      "Input \u001b[0;32mIn [1]\u001b[0m, in \u001b[0;36mPerson.display_name\u001b[0;34m(self)\u001b[0m\n\u001b[1;32m      5\u001b[0m \u001b[38;5;28;01mdef\u001b[39;00m \u001b[38;5;21mdisplay_name\u001b[39m(\u001b[38;5;28mself\u001b[39m):\n\u001b[0;32m----> 6\u001b[0m     \u001b[38;5;28mprint\u001b[39m(\u001b[38;5;124m'\u001b[39m\u001b[38;5;124mThe name is:\u001b[39m\u001b[38;5;124m'\u001b[39m, \u001b[38;5;28;43mself\u001b[39;49m\u001b[38;5;241;43m.\u001b[39;49m\u001b[43mname\u001b[49m)\n",
      "\u001b[0;31mAttributeError\u001b[0m: 'Student' object has no attribute 'name'"
     ]
    }
   ],
   "source": [
    "s2.display_name()"
   ]
  },
  {
   "cell_type": "code",
   "execution_count": 15,
   "id": "c47e781f",
   "metadata": {},
   "outputs": [],
   "source": [
    "class Student (Person):\n",
    "    def __init__(self,name, place,salary):\n",
    "        self.salary=salary\n",
    "    def display_salary(self):\n",
    "        print('The Salary:', self.salary)"
   ]
  },
  {
   "cell_type": "code",
   "execution_count": 16,
   "id": "6467124b",
   "metadata": {},
   "outputs": [],
   "source": [
    "s3=Student('Arshdeep', 'Punjab', 90000000)"
   ]
  },
  {
   "cell_type": "code",
   "execution_count": 17,
   "id": "85036dcd",
   "metadata": {},
   "outputs": [
    {
     "ename": "AttributeError",
     "evalue": "'Student' object has no attribute 'name'",
     "output_type": "error",
     "traceback": [
      "\u001b[0;31m---------------------------------------------------------------------------\u001b[0m",
      "\u001b[0;31mAttributeError\u001b[0m                            Traceback (most recent call last)",
      "Input \u001b[0;32mIn [17]\u001b[0m, in \u001b[0;36m<cell line: 1>\u001b[0;34m()\u001b[0m\n\u001b[0;32m----> 1\u001b[0m \u001b[43ms3\u001b[49m\u001b[38;5;241;43m.\u001b[39;49m\u001b[43mdisplay_name\u001b[49m\u001b[43m(\u001b[49m\u001b[43m)\u001b[49m\n",
      "Input \u001b[0;32mIn [1]\u001b[0m, in \u001b[0;36mPerson.display_name\u001b[0;34m(self)\u001b[0m\n\u001b[1;32m      5\u001b[0m \u001b[38;5;28;01mdef\u001b[39;00m \u001b[38;5;21mdisplay_name\u001b[39m(\u001b[38;5;28mself\u001b[39m):\n\u001b[0;32m----> 6\u001b[0m     \u001b[38;5;28mprint\u001b[39m(\u001b[38;5;124m'\u001b[39m\u001b[38;5;124mThe name is:\u001b[39m\u001b[38;5;124m'\u001b[39m, \u001b[38;5;28;43mself\u001b[39;49m\u001b[38;5;241;43m.\u001b[39;49m\u001b[43mname\u001b[49m)\n",
      "\u001b[0;31mAttributeError\u001b[0m: 'Student' object has no attribute 'name'"
     ]
    }
   ],
   "source": [
    "s3.display_name()"
   ]
  },
  {
   "cell_type": "code",
   "execution_count": 18,
   "id": "4a00efcb",
   "metadata": {},
   "outputs": [],
   "source": [
    "# super keyword\n",
    "\n",
    "class Student (Person):\n",
    "    def __init__(self,name, place,salary):\n",
    "        super().__init__(name, place)\n",
    "        self.salary=salary\n",
    "    def display_salary(self):\n",
    "        print('The Salary:', self.salary)"
   ]
  },
  {
   "cell_type": "code",
   "execution_count": 19,
   "id": "c586bdd3",
   "metadata": {},
   "outputs": [],
   "source": [
    "s3=Student('Arshdeep', 'Punjab', 90000000)"
   ]
  },
  {
   "cell_type": "code",
   "execution_count": 20,
   "id": "5f3dd67c",
   "metadata": {},
   "outputs": [
    {
     "name": "stdout",
     "output_type": "stream",
     "text": [
      "The name is: Arshdeep\n"
     ]
    }
   ],
   "source": [
    "s3.display_name()"
   ]
  },
  {
   "cell_type": "code",
   "execution_count": 21,
   "id": "79621ed1",
   "metadata": {},
   "outputs": [
    {
     "name": "stdout",
     "output_type": "stream",
     "text": [
      "The name is: Punjab\n"
     ]
    }
   ],
   "source": [
    "s3.display_place()"
   ]
  },
  {
   "cell_type": "code",
   "execution_count": 22,
   "id": "a95dfb63",
   "metadata": {},
   "outputs": [
    {
     "name": "stdout",
     "output_type": "stream",
     "text": [
      "The Salary: 90000000\n"
     ]
    }
   ],
   "source": [
    "s3.display_salary()"
   ]
  },
  {
   "cell_type": "markdown",
   "id": "5b68327d",
   "metadata": {},
   "source": [
    "## Overriding"
   ]
  },
  {
   "cell_type": "code",
   "execution_count": 23,
   "id": "19ff884a",
   "metadata": {},
   "outputs": [],
   "source": [
    "class Student (Person):\n",
    "    def __init__(self,name, place,salary):\n",
    "        super().__init__(name, place)\n",
    "        self.salary=salary\n",
    "    def display_salary(self):\n",
    "        print('The Salary:', self.salary)\n",
    "        \n",
    "    def display_name(self):\n",
    "        self.name='Student of Section A'\n",
    "        print('The name is:', self.name)"
   ]
  },
  {
   "cell_type": "code",
   "execution_count": 24,
   "id": "998b3184",
   "metadata": {},
   "outputs": [],
   "source": [
    "s4=Student('Arshdeep', 'Punjab', 90000000)"
   ]
  },
  {
   "cell_type": "code",
   "execution_count": 25,
   "id": "49b0cf99",
   "metadata": {},
   "outputs": [
    {
     "name": "stdout",
     "output_type": "stream",
     "text": [
      "The name is: Punjab\n"
     ]
    }
   ],
   "source": [
    "s4.display_place()"
   ]
  },
  {
   "cell_type": "code",
   "execution_count": 28,
   "id": "49e05012",
   "metadata": {},
   "outputs": [
    {
     "name": "stdout",
     "output_type": "stream",
     "text": [
      "The Salary: 90000000\n"
     ]
    }
   ],
   "source": [
    "s4.display_salary()"
   ]
  },
  {
   "cell_type": "code",
   "execution_count": 29,
   "id": "6c61ca92",
   "metadata": {},
   "outputs": [
    {
     "name": "stdout",
     "output_type": "stream",
     "text": [
      "The name is: Student of Section A\n"
     ]
    }
   ],
   "source": [
    "s4.display_name()"
   ]
  },
  {
   "cell_type": "markdown",
   "id": "d8877aa0",
   "metadata": {},
   "source": [
    "# Polymorphism"
   ]
  },
  {
   "cell_type": "code",
   "execution_count": 30,
   "id": "291c2048",
   "metadata": {},
   "outputs": [],
   "source": [
    "class India:\n",
    "    def capital(self):\n",
    "        print('The capital of India is New Delhi')\n",
    "        \n",
    "    def language(self):\n",
    "        print ('Official language of India is Hindi')"
   ]
  },
  {
   "cell_type": "code",
   "execution_count": 31,
   "id": "f92bc806",
   "metadata": {},
   "outputs": [],
   "source": [
    "class China:\n",
    "    def capital(self):\n",
    "        print('The capital of China is Beijing')\n",
    "        \n",
    "    def language(self):\n",
    "        print ('Official language of China is Mandarin')"
   ]
  },
  {
   "cell_type": "code",
   "execution_count": 32,
   "id": "8942cef0",
   "metadata": {},
   "outputs": [],
   "source": [
    "# create an object of India\n",
    "\n",
    "my_country=India()"
   ]
  },
  {
   "cell_type": "code",
   "execution_count": 33,
   "id": "96280d4e",
   "metadata": {},
   "outputs": [
    {
     "name": "stdout",
     "output_type": "stream",
     "text": [
      "The capital of India is New Delhi\n"
     ]
    }
   ],
   "source": [
    "my_country.capital()"
   ]
  },
  {
   "cell_type": "code",
   "execution_count": 34,
   "id": "f66587c6",
   "metadata": {},
   "outputs": [
    {
     "name": "stdout",
     "output_type": "stream",
     "text": [
      "Official language of India is Hindi\n"
     ]
    }
   ],
   "source": [
    "my_country.language()"
   ]
  },
  {
   "cell_type": "code",
   "execution_count": 35,
   "id": "b9c8bba7",
   "metadata": {},
   "outputs": [],
   "source": [
    "# create an object of China\n",
    "\n",
    "other_country=China()"
   ]
  },
  {
   "cell_type": "code",
   "execution_count": 36,
   "id": "66d39ae8",
   "metadata": {},
   "outputs": [
    {
     "name": "stdout",
     "output_type": "stream",
     "text": [
      "The capital of China is Beijing\n"
     ]
    }
   ],
   "source": [
    "other_country.capital()"
   ]
  },
  {
   "cell_type": "code",
   "execution_count": 37,
   "id": "bd44842e",
   "metadata": {},
   "outputs": [
    {
     "name": "stdout",
     "output_type": "stream",
     "text": [
      "Official language of China is Mandarin\n"
     ]
    }
   ],
   "source": [
    "other_country.language()"
   ]
  },
  {
   "cell_type": "markdown",
   "id": "8912bbec",
   "metadata": {},
   "source": [
    "# Inheritance involving 3 classes "
   ]
  },
  {
   "cell_type": "code",
   "execution_count": 40,
   "id": "0190ec1d",
   "metadata": {},
   "outputs": [],
   "source": [
    "class A:\n",
    "    pass\n",
    "class B(A):\n",
    "    pass\n",
    "class C(B):\n",
    "    pass"
   ]
  },
  {
   "cell_type": "code",
   "execution_count": 42,
   "id": "33bf0710",
   "metadata": {},
   "outputs": [],
   "source": [
    "class A:\n",
    "    pass\n",
    "class B:\n",
    "    pass\n",
    "class C(A,B):\n",
    "    pass"
   ]
  },
  {
   "cell_type": "code",
   "execution_count": null,
   "id": "e427fbcb",
   "metadata": {},
   "outputs": [],
   "source": []
  }
 ],
 "metadata": {
  "kernelspec": {
   "display_name": "Python 3 (ipykernel)",
   "language": "python",
   "name": "python3"
  },
  "language_info": {
   "codemirror_mode": {
    "name": "ipython",
    "version": 3
   },
   "file_extension": ".py",
   "mimetype": "text/x-python",
   "name": "python",
   "nbconvert_exporter": "python",
   "pygments_lexer": "ipython3",
   "version": "3.9.12"
  }
 },
 "nbformat": 4,
 "nbformat_minor": 5
}
